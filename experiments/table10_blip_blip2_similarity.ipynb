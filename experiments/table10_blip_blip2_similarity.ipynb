{
 "cells": [
  {
   "cell_type": "markdown",
   "id": "34b75a1c",
   "metadata": {},
   "source": [
    "## Ablation: BLIP vs BLIP2"
   ]
  },
  {
   "cell_type": "code",
   "execution_count": 2,
   "id": "efa5a594",
   "metadata": {},
   "outputs": [],
   "source": [
    "# Import libraries\n",
    "\n",
    "import os\n",
    "os.chdir(\"sandbox-DnD\")\n",
    "\n",
    "import clip\n",
    "import utils\n",
    "\n",
    "from sentence_transformers import SentenceTransformer\n",
    "\n",
    "import pandas as pd\n",
    "\n",
    "from evaluate import load"
   ]
  },
  {
   "cell_type": "code",
   "execution_count": 3,
   "id": "3e9d6260",
   "metadata": {},
   "outputs": [],
   "source": [
    "# Define variables\n",
    "\n",
    "clip_name = 'ViT-B/16'\n",
    "device = 'cuda'\n",
    "batch_size = 200"
   ]
  },
  {
   "cell_type": "code",
   "execution_count": 4,
   "id": "c002c415",
   "metadata": {},
   "outputs": [],
   "source": [
    "# Define embedding models\n",
    "\n",
    "mpnetmodel = SentenceTransformer('all-mpnet-base-v2')\n",
    "clip_model, _ = clip.load(clip_name, device=device)\n",
    "bertscore = load(\"bertscore\")"
   ]
  },
  {
   "cell_type": "markdown",
   "id": "d0d3a2a7",
   "metadata": {},
   "source": [
    "### Load DnD Results"
   ]
  },
  {
   "cell_type": "code",
   "execution_count": 5,
   "id": "dc058958",
   "metadata": {},
   "outputs": [],
   "source": [
    "# Load CSVs\n",
    "\n",
    "# DnD w/ BLIP\n",
    "dnd_csv_layer1 = pd.read_csv(\"data/DnD_results/rn50_results/resnet50_imagenet_broden_layer1.csv\")\n",
    "dnd_csv_layer2 = pd.read_csv(\"data/DnD_results/rn50_results/resnet50_imagenet_broden_layer2.csv\")\n",
    "dnd_csv_layer3 = pd.read_csv(\"data/DnD_results/rn50_results/resnet50_imagenet_broden_layer3.csv\")\n",
    "dnd_csv_layer4 = pd.read_csv(\"data/DnD_results/rn50_results/resnet50_imagenet_broden_layer4.csv\")\n",
    "\n",
    "# DnD w/ BLIP2\n",
    "dnd_blip2_csv_layer1 = pd.read_csv(\"data/DnD_results/BLIP2_data/BLIP2-Layer1.csv\")\n",
    "dnd_blip2_csv_layer2 = pd.read_csv(\"data/DnD_results/BLIP2_data/BLIP2-Layer2.csv\")\n",
    "dnd_blip2_csv_layer3 = pd.read_csv(\"data/DnD_results/BLIP2_data/BLIP2-Layer3.csv\")\n",
    "dnd_blip2_csv_layer4 = pd.read_csv(\"data/DnD_results/BLIP2_data/BLIP2-Layer4.csv\")"
   ]
  },
  {
   "cell_type": "code",
   "execution_count": 6,
   "id": "5df6aeac",
   "metadata": {},
   "outputs": [],
   "source": [
    "# Get DnD results for each layer\n",
    "\n",
    "# DnD w/ BLIP2\n",
    "dnd_blip2_layer1 = []\n",
    "dnd_blip2_layer2 = []\n",
    "dnd_blip2_layer3 = []\n",
    "dnd_blip2_layer4 = []\n",
    "layer1_ids = []\n",
    "layer2_ids = []\n",
    "layer3_ids = []\n",
    "layer4_ids = []\n",
    "for i in range(len(dnd_blip2_csv_layer1)):\n",
    "    dnd_blip2_layer1.append(dnd_blip2_csv_layer1[\"Label 1\"][i])\n",
    "    layer1_ids.append(dnd_blip2_csv_layer1[\"Neuron ID\"][i])\n",
    "for i in range(len(dnd_blip2_csv_layer2)):\n",
    "    dnd_blip2_layer2.append(dnd_blip2_csv_layer2[\"Label 1\"][i])\n",
    "    layer2_ids.append(dnd_blip2_csv_layer2[\"Neuron ID\"][i])\n",
    "for i in range(len(dnd_blip2_csv_layer3)):\n",
    "    dnd_blip2_layer3.append(dnd_blip2_csv_layer3[\"Label 1\"][i])\n",
    "    layer3_ids.append(dnd_blip2_csv_layer3[\"Neuron ID\"][i])\n",
    "for i in range(len(dnd_blip2_csv_layer4)):\n",
    "    dnd_blip2_layer4.append(dnd_blip2_csv_layer4[\"Label 1\"][i])\n",
    "    layer4_ids.append(dnd_blip2_csv_layer4[\"Neuron ID\"][i])\n",
    "all_dnd_blip2 = dnd_blip2_layer1 + dnd_blip2_layer2 + dnd_blip2_layer3 + dnd_blip2_layer4\n",
    "\n",
    "# DnD w/ BLIP\n",
    "dnd_layer1 = []\n",
    "dnd_layer2 = []\n",
    "dnd_layer3 = []\n",
    "dnd_layer4 = []\n",
    "for i in range(len(dnd_csv_layer1)):\n",
    "    if dnd_csv_layer1[\"Neuron ID\"][i] in layer1_ids:\n",
    "        dnd_layer1.append(dnd_csv_layer1[\"Label 1\"][i])\n",
    "for i in range(len(dnd_csv_layer2)):\n",
    "    if dnd_csv_layer2[\"Neuron ID\"][i] in layer2_ids:\n",
    "        dnd_layer2.append(dnd_csv_layer2[\"Label 1\"][i])\n",
    "for i in range(len(dnd_csv_layer3)):\n",
    "    if dnd_csv_layer3[\"Neuron ID\"][i] in layer3_ids:\n",
    "        dnd_layer3.append(dnd_csv_layer3[\"Label 1\"][i])\n",
    "for i in range(len(dnd_csv_layer4)):\n",
    "    if dnd_csv_layer4[\"Neuron ID\"][i] in layer4_ids:\n",
    "        dnd_layer4.append(dnd_csv_layer4[\"Label 1\"][i])\n",
    "all_dnd = dnd_layer1 + dnd_layer2 + dnd_layer3 + dnd_layer4"
   ]
  },
  {
   "cell_type": "markdown",
   "id": "ba4be1ec",
   "metadata": {},
   "source": [
    "### Find Cosine Similarity"
   ]
  },
  {
   "cell_type": "code",
   "execution_count": 7,
   "id": "1303b121",
   "metadata": {},
   "outputs": [
    {
     "name": "stdout",
     "output_type": "stream",
     "text": [
      "Layer 1: 0.83935546875\n",
      "Layer 2: 0.84375\n",
      "Layer 3: 0.84228515625\n",
      "Layer 4: 0.8681640625\n",
      "All Layers: 0.84814453125\n"
     ]
    }
   ],
   "source": [
    "# CLIP cosine similarities between DnD w/ BLIP labels and DnD w/ BLIP2 labels\n",
    "\n",
    "clip_cos, _ = utils.get_cos_similarity(dnd_layer1, dnd_blip2_layer1, clip_model, mpnetmodel, device, batch_size)\n",
    "print(\"Layer 1: \" + str(clip_cos))\n",
    "clip_cos, _ = utils.get_cos_similarity(dnd_layer2, dnd_blip2_layer2, clip_model, mpnetmodel, device, batch_size)\n",
    "print(\"Layer 2: \" + str(clip_cos))\n",
    "clip_cos, _ = utils.get_cos_similarity(dnd_layer3, dnd_blip2_layer3, clip_model, mpnetmodel, device, batch_size)\n",
    "print(\"Layer 3: \" + str(clip_cos))\n",
    "clip_cos, _ = utils.get_cos_similarity(dnd_layer4, dnd_blip2_layer4, clip_model, mpnetmodel, device, batch_size)\n",
    "print(\"Layer 4: \" + str(clip_cos))\n",
    "clip_cos, _ = utils.get_cos_similarity(all_dnd, all_dnd_blip2, clip_model, mpnetmodel, device, batch_size)\n",
    "print(\"All Layers: \" + str(clip_cos))"
   ]
  },
  {
   "cell_type": "markdown",
   "id": "ce842adb",
   "metadata": {},
   "source": [
    "### Find BERT score"
   ]
  },
  {
   "cell_type": "code",
   "execution_count": 9,
   "id": "e6815190",
   "metadata": {},
   "outputs": [
    {
     "name": "stdout",
     "output_type": "stream",
     "text": [
      "Layer 1: 0.8826496315002441\n",
      "Layer 2: 0.8799508821964264\n",
      "Layer 3: 0.8939113056659699\n",
      "Layer 4: 0.890931830406189\n",
      "All Layers: 0.8868609139323235\n"
     ]
    }
   ],
   "source": [
    "# BERT scores between DnD w/ BLIP labels and DnD w/ BLIP2 labels\n",
    "\n",
    "bert_score = sum(bertscore.compute(predictions=dnd_layer1, references=dnd_blip2_layer1, lang=\"en\")[\"f1\"]) / len(bertscore.compute(predictions=dnd_layer1, references=dnd_blip2_layer1, lang=\"en\")[\"f1\"])\n",
    "print(\"Layer 1: \" + str(bert_score))\n",
    "bert_score = sum(bertscore.compute(predictions=dnd_layer2, references=dnd_blip2_layer2, lang=\"en\")[\"f1\"]) / len(bertscore.compute(predictions=dnd_layer2, references=dnd_blip2_layer2, lang=\"en\")[\"f1\"])\n",
    "print(\"Layer 2: \" + str(bert_score))\n",
    "bert_score = sum(bertscore.compute(predictions=dnd_layer3, references=dnd_blip2_layer3, lang=\"en\")[\"f1\"]) / len(bertscore.compute(predictions=dnd_layer3, references=dnd_blip2_layer3, lang=\"en\")[\"f1\"])\n",
    "print(\"Layer 3: \" + str(bert_score))\n",
    "bert_score = sum(bertscore.compute(predictions=dnd_layer4, references=dnd_blip2_layer4, lang=\"en\")[\"f1\"]) / len(bertscore.compute(predictions=dnd_layer4, references=dnd_blip2_layer4, lang=\"en\")[\"f1\"])\n",
    "print(\"Layer 4: \" + str(bert_score))\n",
    "bert_score = sum(bertscore.compute(predictions=all_dnd, references=all_dnd_blip2, lang=\"en\")[\"f1\"]) / len(bertscore.compute(predictions=all_dnd, references=all_dnd_blip2, lang=\"en\")[\"f1\"])\n",
    "print(\"All Layers: \" + str(bert_score))"
   ]
  }
 ],
 "metadata": {
  "kernelspec": {
   "display_name": "Python 3 (ipykernel)",
   "language": "python",
   "name": "python3"
  },
  "language_info": {
   "codemirror_mode": {
    "name": "ipython",
    "version": 3
   },
   "file_extension": ".py",
   "mimetype": "text/x-python",
   "name": "python",
   "nbconvert_exporter": "python",
   "pygments_lexer": "ipython3",
   "version": "3.10.16"
  }
 },
 "nbformat": 4,
 "nbformat_minor": 5
}
