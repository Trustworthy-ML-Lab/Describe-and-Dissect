{
 "cells": [
  {
   "cell_type": "markdown",
   "metadata": {},
   "source": [
    "## Use Case: Pruning Tile2Vec ResNet-18 Neurons\n",
    "We use DnD to identify low contributing neurons in Tile2Vec ResNet-18 models pre-trained on the NAIP dataset. Embeddings are used to train a Random Forest Classifier to predict corresponding Cropland Data Layer (CDL) labels."
   ]
  },
  {
   "cell_type": "code",
   "execution_count": null,
   "metadata": {},
   "outputs": [],
   "source": [
    "import numpy as np\n",
    "import os\n",
    "import torch\n",
    "from time import time\n",
    "import random\n",
    "from torch.autograd import Variable\n",
    "\n",
    "from sklearn.preprocessing import LabelEncoder\n",
    "from sklearn.ensemble import RandomForestClassifier\n",
    "from sklearn.model_selection import train_test_split\n",
    "import pandas as pd\n",
    "\n",
    "import sys\n",
    "sys.path.append('../')\n",
    "from src.resnet import ResNet18\n",
    "\n",
    "sys.path.append('sandbox-DnD')\n",
    "import data_utils"
   ]
  },
  {
   "cell_type": "markdown",
   "metadata": {},
   "source": [
    "### Loading pre-trained TileNet model"
   ]
  },
  {
   "cell_type": "code",
   "execution_count": null,
   "metadata": {},
   "outputs": [],
   "source": [
    "# Setting up model\n",
    "in_channels = 4\n",
    "z_dim = 512\n",
    "cuda = torch.cuda.is_available()\n",
    "tilenet = ResNet18()\n",
    "if cuda: tilenet.cuda()"
   ]
  },
  {
   "cell_type": "code",
   "execution_count": null,
   "metadata": {},
   "outputs": [],
   "source": [
    "# Load parameters\n",
    "model_fn = 'sandbox-DnD/tile2vec/models/naip_trained.ckpt'\n",
    "checkpoint = torch.load(model_fn)\n",
    "tilenet.load_state_dict(checkpoint)\n",
    "tilenet.eval()"
   ]
  },
  {
   "cell_type": "markdown",
   "metadata": {},
   "source": [
    "### Data Processing"
   ]
  },
  {
   "cell_type": "code",
   "execution_count": null,
   "metadata": {},
   "outputs": [],
   "source": [
    "# Embeds NAIP tiles using ResNet\n",
    "def embed_tiles(tilenet, n_tiles = 1000):\n",
    "    \n",
    "    t0 = time()\n",
    "    X = np.zeros((n_tiles, z_dim))\n",
    "    \n",
    "    for idx in range(n_tiles):\n",
    "        tile = np.load(os.path.join(tile_dir, '{}tile.npy'.format(idx+1)))\n",
    "        tile = tile[:,:,:4] # Get first 4 NAIP channels (5th is CDL mask)\n",
    "        tile = np.moveaxis(tile, -1, 0)\n",
    "        tile = np.expand_dims(tile, axis=0)\n",
    "        tile = tile / 255\n",
    "        tile = torch.from_numpy(tile).float()\n",
    "        tile = Variable(tile)\n",
    "        if cuda: tile = tile.cuda()\n",
    "        z = tilenet.encode(tile)\n",
    "        if cuda: z = z.cpu()\n",
    "        z = z.data.numpy()\n",
    "        X[idx,:] = z\n",
    "        \n",
    "    t1 = time()\n",
    "    print('Embedded {} tiles: {:0.3f}s'.format(n_tiles, t1-t0))\n",
    "    return X\n",
    "\n",
    "# Load CDL Classes\n",
    "def load_cdl_classes(cdl_tiles_path, cdl_labels_path):\n",
    "    \n",
    "    y = np.load(os.path.join(tile_dir, 'y.npy'))\n",
    "    y_set = set(y)\n",
    "    cdl_df = pd.read_csv(cdl_labels_path)\n",
    "\n",
    "    cdl_labels = []\n",
    "    for code in y_set:\n",
    "        idx = cdl_df.loc[(cdl_df == code).any(axis=1)].index[0]\n",
    "        cdl_labels.append(cdl_df.iloc[idx][1])\n",
    "    \n",
    "    y = LabelEncoder().fit_transform(y) # Reindex CDL classes\n",
    "\n",
    "    return y"
   ]
  },
  {
   "cell_type": "markdown",
   "metadata": {},
   "source": [
    "### 1. Classifier Accuracy (No Pruning)\n",
    "We first embed 1,000 NAIP tiles provided in `tile2vec/data/tiles` and evaluate on a Random Forest Classifier trained on NAIP embeddings."
   ]
  },
  {
   "cell_type": "code",
   "execution_count": null,
   "metadata": {},
   "outputs": [],
   "source": [
    "# Get NAIP tiles\n",
    "tile_dir = 'sandbox-DnD/tile2vec/data/tiles'\n",
    "labels_dir = 'sandbox-DnD/tile2vec/data/CDL_labels.csv'\n",
    "n_tiles = 1000\n",
    "\n",
    "# Initialize ResNet layer dimensions\n",
    "layer_dims = {\"layer1\" : 64, \"layer2\" : 128, \"layer3\" : 256, \"layer4\" : 512, \"layer5\" : 512}\n",
    "\n",
    "# Embed tiles\n",
    "X = embed_tiles(tilenet, n_tiles)\n",
    "\n",
    "# Load CDL classes\n",
    "y = load_cdl_classes(tile_dir, labels_dir)"
   ]
  },
  {
   "cell_type": "code",
   "execution_count": null,
   "metadata": {},
   "outputs": [],
   "source": [
    "# Train Classifier\n",
    "\n",
    "accs = np.zeros((0,))\n",
    "random_state = random.randint(0, 999999)\n",
    "\n",
    "# Splitting data and training RF classifer\n",
    "X_tr, X_te, y_tr, y_te = train_test_split(X, y, test_size=0.2, random_state = random_state)\n",
    "rf = RandomForestClassifier()\n",
    "rf.fit(X_tr, y_tr)\n",
    "accs = rf.score(X_te, y_te) \n",
    "\n",
    "print(\"Random State: {}\\nClassifier Accuracy - {}\".format(random_state, accs))"
   ]
  },
  {
   "cell_type": "markdown",
   "metadata": {},
   "source": [
    "### 2. Fixed Classifier (With Pruning)\n",
    "We prune all ungrouped neurons identified by DnD, then use the original fixed classifier to evaluate. "
   ]
  },
  {
   "cell_type": "code",
   "execution_count": null,
   "metadata": {},
   "outputs": [],
   "source": [
    "# NOTE: You may need to retrain the classifier without pruning (above)\n",
    "#       if you have evaluated on the 3. Retrained Classifier Experiment (below)\n",
    "\n",
    "target_layer = \"layer5\"\n",
    "\n",
    "# Insert list of ungrouped DnD neurons\n",
    "ids_to_prune = []\n",
    "\n",
    "\"\"\"\n",
    "# Use for Random Pruning\n",
    "num_neurons = 100\n",
    "ids_to_prune = random.sample(range(0, layer_dims[target_layer]), num_neurons)\n",
    "\"\"\"\n",
    "\n",
    "ids_to_prune.sort()\n",
    "\n",
    "# Mask pruned neurons\n",
    "print(\"Number of pruned neurons {}/{}\".format(len(ids_to_prune), (layer_dims[target_layer])))\n",
    "to_prune = (target_layer, ids_to_prune)\n",
    "tilenet, handle = data_utils.prune(tilenet, to_prune)\n",
    "\n",
    "# Embed tiles\n",
    "X = embed_tiles(tilenet, n_tiles)\n",
    "\n",
    "# Load CDL classes\n",
    "y = load_cdl_classes(tile_dir, labels_dir)\n",
    "\n",
    "# Remove pruning mask\n",
    "handle.remove()"
   ]
  },
  {
   "cell_type": "code",
   "execution_count": null,
   "metadata": {},
   "outputs": [],
   "source": [
    "accs = np.zeros((0,))\n",
    "\n",
    "# Splitting data and training and re-evaluate using original RF classifier\n",
    "X_tr, X_te, y_tr, y_te = train_test_split(X, y, test_size=0.2, random_state = random_state)\n",
    "accs = rf.score(X_te, y_te) \n",
    "\n",
    "print(\"Random State: {}\\nFixed Classifier Accuracy - {}\".format(random_state, accs))"
   ]
  },
  {
   "cell_type": "markdown",
   "metadata": {},
   "source": [
    "### 3. Retrained Classifier (With Pruning)\n",
    "We prune all ungrouped neurons identified by DnD, then retrain a new Random Forest classifier to evaluate. "
   ]
  },
  {
   "cell_type": "code",
   "execution_count": null,
   "metadata": {},
   "outputs": [],
   "source": [
    "print(\"Number of pruned neurons {}/{}\".format(len(ids_to_prune), (layer_dims[target_layer])))\n",
    "\n",
    "# Mask pruned neurons\n",
    "to_prune = (target_layer, ids_to_prune)\n",
    "tilenet, handle = data_utils.prune(tilenet, to_prune)\n",
    "\n",
    "# Embed tiles\n",
    "X = embed_tiles(tilenet, n_tiles)\n",
    "    \n",
    "# Check CDL classes\n",
    "y = load_cdl_classes(tile_dir, labels_dir)\n",
    "\n",
    "# Remove pruning mask\n",
    "handle.remove()"
   ]
  },
  {
   "cell_type": "code",
   "execution_count": null,
   "metadata": {},
   "outputs": [],
   "source": [
    "accs = np.zeros((0,))\n",
    "\n",
    "# Splitting data and training and re-evaluate using retrained RF classifier\n",
    "X_tr, X_te, y_tr, y_te = train_test_split(X, y, test_size=0.2, random_state = random_state)\n",
    "rf = RandomForestClassifier()\n",
    "rf.fit(X_tr, y_tr)\n",
    "\n",
    "accs = rf.score(X_te, y_te) \n",
    "print(\"Random State: {}\\nRetrained Classifier Accuracy - {}\".format(random_state, accs))"
   ]
  }
 ],
 "metadata": {
  "kernelspec": {
   "display_name": "jupyter-kernel",
   "language": "python",
   "name": "jupyter-kernel"
  },
  "language_info": {
   "codemirror_mode": {
    "name": "ipython",
    "version": 3
   },
   "file_extension": ".py",
   "mimetype": "text/x-python",
   "name": "python",
   "nbconvert_exporter": "python",
   "pygments_lexer": "ipython3",
   "version": "3.12.2"
  }
 },
 "nbformat": 4,
 "nbformat_minor": 4
}
