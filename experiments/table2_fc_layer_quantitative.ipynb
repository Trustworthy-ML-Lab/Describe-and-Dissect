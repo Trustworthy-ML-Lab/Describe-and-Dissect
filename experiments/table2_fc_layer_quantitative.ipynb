{
 "cells": [
  {
   "cell_type": "markdown",
   "id": "c60753d5",
   "metadata": {},
   "source": [
    "## FC Layer Quantitative Analysis"
   ]
  },
  {
   "cell_type": "code",
   "execution_count": 2,
   "id": "d64aee49",
   "metadata": {},
   "outputs": [],
   "source": [
    "# Import libraries\n",
    "\n",
    "import os\n",
    "os.chdir(\"sandbox-DnD\")\n",
    "\n",
    "import clip\n",
    "import utils\n",
    "\n",
    "from sentence_transformers import SentenceTransformer\n",
    "\n",
    "import pandas as pd\n",
    "\n",
    "from evaluate import load"
   ]
  },
  {
   "cell_type": "code",
   "execution_count": 3,
   "id": "7f82dbe2",
   "metadata": {},
   "outputs": [],
   "source": [
    "# Define variables\n",
    "\n",
    "clip_name = 'ViT-B/16'\n",
    "device = 'cuda'\n",
    "batch_size = 200"
   ]
  },
  {
   "cell_type": "code",
   "execution_count": 4,
   "id": "454a5500",
   "metadata": {},
   "outputs": [],
   "source": [
    "# Define embedding models\n",
    "\n",
    "mpnetmodel = SentenceTransformer('all-mpnet-base-v2')\n",
    "clip_model, _ = clip.load(clip_name, device=device)\n",
    "bertscore = load(\"bertscore\")"
   ]
  },
  {
   "cell_type": "markdown",
   "id": "4aeaccf5",
   "metadata": {},
   "source": [
    "### Load Labels"
   ]
  },
  {
   "cell_type": "code",
   "execution_count": 5,
   "id": "1fa004ee",
   "metadata": {},
   "outputs": [],
   "source": [
    "# Get ground truths\n",
    "\n",
    "with open('data/imagenet_labels.txt', 'r') as f:\n",
    "    classes = f.read().split('\\n')"
   ]
  },
  {
   "cell_type": "code",
   "execution_count": 6,
   "id": "3fde1956",
   "metadata": {},
   "outputs": [],
   "source": [
    "# Get DnD labels\n",
    "\n",
    "dnd_labels = pd.read_csv('data/DnD_results/rn50_results/resnet50_imagenet_broden_fc.csv')\n",
    "dnd_preds = list(dnd_labels['label'])"
   ]
  },
  {
   "cell_type": "code",
   "execution_count": 7,
   "id": "4b319ff8",
   "metadata": {},
   "outputs": [],
   "source": [
    "# Get MILAN labels\n",
    "\n",
    "milan_labels = pd.read_csv('data/MILAN_results/m_base_resnet50_imagenet.csv')\n",
    "milan_preds = milan_labels[milan_labels['layer']=='fc']\n",
    "milan_preds = milan_preds.sort_values(by=['unit'])\n",
    "milan_preds = list(milan_preds['description'])"
   ]
  },
  {
   "cell_type": "markdown",
   "id": "9b4d2578",
   "metadata": {},
   "source": [
    "### Find Similarities"
   ]
  },
  {
   "cell_type": "code",
   "execution_count": 9,
   "id": "6f3c7d1a",
   "metadata": {},
   "outputs": [
    {
     "name": "stdout",
     "output_type": "stream",
     "text": [
      "DnD - Clip similarity: 0.7598, mpnet similarity: 0.4586, BERTScore: 0.828626\n",
      "MILAN - Clip similarity: 0.7080, mpnet similarity: 0.2788, BERTScore: 0.820643\n"
     ]
    }
   ],
   "source": [
    "# Calculate similarities between labels and ground truths\n",
    "\n",
    "clip_cos, mpnet_cos = utils.get_cos_similarity(dnd_preds, classes, clip_model, mpnetmodel, device, batch_size)\n",
    "bert_score = bertscore.compute(predictions=dnd_preds, references=classes, lang=\"en\")\n",
    "print(\"DnD - Clip similarity: {:.4f}, mpnet similarity: {:.4f}, BERTScore: {:4f}\".format(clip_cos, mpnet_cos, sum(bert_score[\"f1\"]) / len(bert_score[\"f1\"])))\n",
    "clip_cos, mpnet_cos = utils.get_cos_similarity(milan_preds, classes, clip_model, mpnetmodel, device, batch_size)\n",
    "bert_score = bertscore.compute(predictions=milan_preds, references=classes, lang=\"en\")\n",
    "print(\"MILAN - Clip similarity: {:.4f}, mpnet similarity: {:.4f}, BERTScore: {:4f}\".format(clip_cos, mpnet_cos, sum(bert_score[\"f1\"]) / len(bert_score[\"f1\"])))"
   ]
  }
 ],
 "metadata": {
  "kernelspec": {
   "display_name": "Python 3 (ipykernel)",
   "language": "python",
   "name": "python3"
  },
  "language_info": {
   "codemirror_mode": {
    "name": "ipython",
    "version": 3
   },
   "file_extension": ".py",
   "mimetype": "text/x-python",
   "name": "python",
   "nbconvert_exporter": "python",
   "pygments_lexer": "ipython3",
   "version": "3.10.16"
  }
 },
 "nbformat": 4,
 "nbformat_minor": 5
}
